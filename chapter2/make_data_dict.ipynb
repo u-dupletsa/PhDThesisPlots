{
 "cells": [
  {
   "cell_type": "code",
   "execution_count": 3,
   "metadata": {},
   "outputs": [],
   "source": [
    "import pandas as pd\n",
    "import numpy as np\n",
    "import pickle"
   ]
  },
  {
   "cell_type": "code",
   "execution_count": 6,
   "metadata": {},
   "outputs": [],
   "source": [
    "PATH_TO_MDC_DATA = '/Users/ulyana/Documents/MDC/posterior_samples/'"
   ]
  },
  {
   "cell_type": "markdown",
   "metadata": {},
   "source": [
    "## Vanilla case"
   ]
  },
  {
   "cell_type": "code",
   "execution_count": 13,
   "metadata": {},
   "outputs": [],
   "source": [
    "dict_case1_events_sample = {\n",
    "        'case1_1e5inj_50ev_sample1':PATH_TO_MDC_DATA + 'case1' + '/' + '1e5inj_50ev_sample1_label_result.json',\n",
    "        'case1_1e5inj_50ev_sample2':PATH_TO_MDC_DATA + 'case1' + '/' + '1e5inj_50ev_sample2_label_result.json',\n",
    "        'case1_1e5inj_50ev_sample3':PATH_TO_MDC_DATA + 'case1' + '/' + '1e5inj_50ev_sample3_label_result.json',\n",
    "        'case1_1e5inj_50ev_sample4':PATH_TO_MDC_DATA + 'case1' + '/' + '1e5inj_50ev_sample4_label_result.json',\n",
    "        'case1_1e5inj_50ev_sample5':PATH_TO_MDC_DATA + 'case1' + '/' + '1e5inj_50ev_sample5_label_result.json'\n",
    "        }\n",
    "\n",
    "dict_case1_events_number = {\n",
    "        'case1_1e5inj_150ev':PATH_TO_MDC_DATA + 'case1' + '/' + '1e5inj_150ev_label_result.json',\n",
    "        'case1_1e5inj_180ev':PATH_TO_MDC_DATA + 'case1' + '/' + '1e5inj_180ev_label_result.json',\n",
    "        'case1_1e5inj_200ev':PATH_TO_MDC_DATA + 'case1' + '/' + '1e5inj_200ev_label_result.json',\n",
    "        'case1_1e5inj_220ev':PATH_TO_MDC_DATA + 'case1' + '/' + '1e5inj_220ev_label_result.json',\n",
    "        'case1_1e5inj_250ev':PATH_TO_MDC_DATA + 'case1' + '/' + '1e5inj_250ev_label_result.json',\n",
    "        'case1_1e5inj_286ev':PATH_TO_MDC_DATA + 'case1' + '/' + '1e5inj_286ev_label_result.json'\n",
    "        }\n",
    "\n",
    "dict_case1_inj_number = {\n",
    "        'case1_1e4inj_286ev':PATH_TO_MDC_DATA + 'case1' + '/' + '1e4inj_286ev_label_result.json',\n",
    "        'case1_1e5inj_286ev':PATH_TO_MDC_DATA + 'case1' + '/' + '1e5inj_286ev_label_result.json',\n",
    "        'case1_1e6inj_286ev':PATH_TO_MDC_DATA + 'case1' + '/' + '1e6inj_286ev_label_result.json'\n",
    "        }\n",
    "\n",
    "dict_case1_inj_sample = {\n",
    "        'case1_1e5inj_286ev_sample1':PATH_TO_MDC_DATA + 'case1' + '/' + '1e5inj_sample1_286ev_label_result.json',\n",
    "        'case1_1e5inj_286ev_sample2':PATH_TO_MDC_DATA + 'case1' + '/' + '1e5inj_sample2_286ev_label_result.json',\n",
    "        'case1_1e5inj_286ev_sample3':PATH_TO_MDC_DATA + 'case1' + '/' + '1e5inj_sample3_286ev_label_result.json',\n",
    "        'case1_1e5inj_286ev_sample4':PATH_TO_MDC_DATA + 'case1' + '/' + '1e5inj_sample4_286ev_label_result.json'\n",
    "        }\n",
    "\n",
    "dict_case1_larger_priors = {\n",
    "        'case1_1e5inj_286ev':PATH_TO_MDC_DATA + 'case1' + '/' + '1e5inj_286ev_label_result.json',\n",
    "        'case1_1e5inj_286ev_larger_priors':PATH_TO_MDC_DATA + 'case1' + '/' + '1e5inj_286ev_larger_priors_label_result.json'\n",
    "    }\n",
    "\n",
    "dict_case1_zbins = {\n",
    "        'case1_1e5inj_zbin1':PATH_TO_MDC_DATA + 'case1' + '/' + '1e5inj_zbin1_same_size_label_result.json',\n",
    "        'case1_1e5inj_zbin2':PATH_TO_MDC_DATA + 'case1' + '/' + '1e5inj_zbin2_same_size_label_result.json',\n",
    "        'case1_1e5inj_zbin3':PATH_TO_MDC_DATA + 'case1' + '/' + '1e5inj_zbin3_same_size_label_result.json'\n",
    "        }\n",
    "\n",
    "dict_case1_zbins_case2 = {\n",
    "        'case1_1e5inj_zbin1_case2':PATH_TO_MDC_DATA + 'case1' + '/' + '1e5inj_zbin1_label_result.json',\n",
    "        'case1_1e5inj_zbin2_case2':PATH_TO_MDC_DATA + 'case1' + '/' + '1e5inj_zbin2_label_result.json',\n",
    "        'case1_1e5inj_zbin3_case2':PATH_TO_MDC_DATA + 'case1' + '/' + '1e5inj_zbin3_label_result.json'\n",
    "        }"
   ]
  },
  {
   "cell_type": "code",
   "execution_count": 14,
   "metadata": {},
   "outputs": [],
   "source": [
    "dict_case1 = {\n",
    "        'case1_events_sample':dict_case1_events_sample,\n",
    "        'case1_events_number':dict_case1_events_number,\n",
    "        'case1_inj_number':dict_case1_inj_number,\n",
    "        'case1_inj_sample':dict_case1_inj_sample,\n",
    "        'case1_zbins':dict_case1_zbins,\n",
    "        'case1_zbins_case2':dict_case1_zbins_case2,\n",
    "        'case1_larger_priors':dict_case1_larger_priors\n",
    "        }"
   ]
  },
  {
   "cell_type": "code",
   "execution_count": 15,
   "metadata": {},
   "outputs": [],
   "source": [
    "with open('data/case1_events_dictionary.pkl', 'wb') as f:\n",
    "    pickle.dump(dict_case1, f)"
   ]
  },
  {
   "cell_type": "code",
   "execution_count": 16,
   "metadata": {},
   "outputs": [],
   "source": [
    "lbl_dict_case1_events_sample = {\n",
    "        'case1_1e5inj_50ev_sample1':'sample 1',\n",
    "        'case1_1e5inj_50ev_sample2':'sample 2',\n",
    "        'case1_1e5inj_50ev_sample3':'sample 3',\n",
    "        'case1_1e5inj_50ev_sample4':'sample 4',\n",
    "        'case1_1e5inj_50ev_sample5':'sample 5'\n",
    "        }\n",
    "\n",
    "lbl_dict_case1_events_number = {\n",
    "        'case1_1e5inj_150ev':'150',\n",
    "        'case1_1e5inj_180ev':'180',\n",
    "        'case1_1e5inj_200ev':'200',\n",
    "        'case1_1e5inj_220ev':'220',\n",
    "        'case1_1e5inj_250ev':'250',\n",
    "        'case1_1e5inj_286ev':'286'\n",
    "        }\n",
    "\n",
    "lbl_dict_case1_inj_number = {\n",
    "        'case1_1e4inj_286ev':'$10^4$',\n",
    "        'case1_1e5inj_286ev':'$10^5$',\n",
    "        'case1_1e6inj_286ev':'$10^6$'\n",
    "        }\n",
    "\n",
    "lbl_dict_case1_inj_sample = {\n",
    "        'case1_1e5inj_286ev_sample1':'sample 1',\n",
    "        'case1_1e5inj_286ev_sample2':'sample 2',\n",
    "        'case1_1e5inj_286ev_sample3':'sample 3',\n",
    "        'case1_1e5inj_286ev_sample4':'sample 4'\n",
    "        }\n",
    "\n",
    "lbl_dict_case1_larger_priors = {\n",
    "        'case1_1e5inj_286ev':'286 events',\n",
    "        'case1_1e5inj_286ev_larger_priors':'286 events - larger priors'\n",
    "    }\n",
    "\n",
    "lbl_dict_case1_zbins ={\n",
    "        'case1_1e5inj_zbin1':'z<0.25',\n",
    "        'case1_1e5inj_zbin2':'0.25<z<0.5',\n",
    "        'case1_1e5inj_zbin3':'z>0.5'\n",
    "        }\n",
    "\n",
    "lbl_dict_case1_zbins_case2 ={\n",
    "        'case1_1e5inj_zbin1_case2':'z<0.65',\n",
    "        'case1_1e5inj_zbin2_case2':'0.65<z<1.05',\n",
    "        'case1_1e5inj_zbin3_case2':'z>1.05'\n",
    "        }"
   ]
  },
  {
   "cell_type": "code",
   "execution_count": 17,
   "metadata": {},
   "outputs": [],
   "source": [
    "lbl_dict_case1 = {\n",
    "        'case1_events_sample':lbl_dict_case1_events_sample,\n",
    "        'case1_events_number':lbl_dict_case1_events_number,\n",
    "        'case1_inj_number':lbl_dict_case1_inj_number,\n",
    "        'case1_inj_sample':lbl_dict_case1_inj_sample,\n",
    "        'case1_zbins':lbl_dict_case1_zbins,\n",
    "        'case1_zbins_case2':lbl_dict_case1_zbins_case2,\n",
    "        'case1_larger_priors':lbl_dict_case1_larger_priors\n",
    "        }"
   ]
  },
  {
   "cell_type": "code",
   "execution_count": 18,
   "metadata": {},
   "outputs": [],
   "source": [
    "with open('data/case1_events_lbl_dictionary.pkl', 'wb') as f:\n",
    "    pickle.dump(lbl_dict_case1, f)"
   ]
  },
  {
   "cell_type": "code",
   "execution_count": null,
   "metadata": {},
   "outputs": [],
   "source": []
  }
 ],
 "metadata": {
  "kernelspec": {
   "display_name": "phd_thesis",
   "language": "python",
   "name": "python3"
  },
  "language_info": {
   "codemirror_mode": {
    "name": "ipython",
    "version": 3
   },
   "file_extension": ".py",
   "mimetype": "text/x-python",
   "name": "python",
   "nbconvert_exporter": "python",
   "pygments_lexer": "ipython3",
   "version": "3.9.21"
  }
 },
 "nbformat": 4,
 "nbformat_minor": 2
}

{
 "cells": [
  {
   "cell_type": "code",
   "execution_count": 9,
   "metadata": {},
   "outputs": [],
   "source": [
    "import numpy as np\n",
    "import pandas as pd\n",
    "import h5py\n",
    "import os\n",
    "import healpy as hp\n",
    "from matplotlib.colors import LinearSegmentedColormap\n",
    "import matplotlib.pyplot as plt"
   ]
  },
  {
   "cell_type": "code",
   "execution_count": 2,
   "metadata": {},
   "outputs": [],
   "source": [
    "# General settings\n",
    "import matplotlib as mpl\n",
    "mpl.rc_file('/Users/ulyanadupletsa/Documents/PhDThesisPlots/matplotlibrc')\n",
    "\n",
    "mpl.rc('xtick', labelsize = 18) \n",
    "mpl.rc('ytick', labelsize = 18)"
   ]
  },
  {
   "cell_type": "code",
   "execution_count": 3,
   "metadata": {},
   "outputs": [],
   "source": [
    "my_color = '#97a7a7'\n",
    "my_color_darker = '#2f4f4f'\n",
    "my_color2 = '#f8c997'\n",
    "my_color2_darker = '#f6b26b'"
   ]
  },
  {
   "cell_type": "code",
   "execution_count": 5,
   "metadata": {},
   "outputs": [],
   "source": [
    "color1 = '#121f1f'\n",
    "color2 = '#eba75f'\n",
    "mycmap = LinearSegmentedColormap.from_list(\"my_cmap\", [color1, color2])"
   ]
  },
  {
   "cell_type": "code",
   "execution_count": 6,
   "metadata": {},
   "outputs": [
    {
     "data": {
      "image/png": "[encoded data removed]",
      "text/html": [
       "<div style=\"vertical-align: middle;\"><strong>my_cmap</strong> </div><div class=\"cmap\"><img alt=\"my_cmap colormap\" title=\"my_cmap\" style=\"border: 1px solid #555;\" src=\"data:image/png;base64,iVBORw0KGgoAAAANSUhEUgAAAgAAAABACAYAAABsv8+/AAAAFnRFWHRUaXRsZQBteV9jbWFwIGNvbG9ybWFw2E+iFQAAABx0RVh0RGVzY3JpcHRpb24AbXlfY21hcCBjb2xvcm1hcH9hE2wAAAAwdEVYdEF1dGhvcgBNYXRwbG90bGliIHYzLjkuMiwgaHR0cHM6Ly9tYXRwbG90bGliLm9yZ2GZxVMAAAAydEVYdFNvZnR3YXJlAE1hdHBsb3RsaWIgdjMuOS4yLCBodHRwczovL21hdHBsb3RsaWIub3JnTz9adAAAAbJJREFUeJzt1lFOwkAUQNEZl+AG2P8q9UdUCk1bgkJyz/kBfEycMiXc+X46fYxf5vx6/H49F6/HuHz/7fna+vOTn/fNlXWX87ExX64fa/O9+zt4fWNjfvX5Hbz+68995/o79zcXC17tfOfiH25d/5+f7737O3r/rlzf5v5W5kfP997792Hnu3d/G/PD3/9nne/y+/9f57uc793fxnzz/nix8334789y/ZN+f85/fxsAQI4AAIAgAQAAQQIAAIIEAAAECQAACBIAABAkAAAgSAAAQJAAAIAgAQAAQQIAAIIEAAAECQAACBIAABAkAAAgSAAAQJAAAIAgAQAAQQIAAIIEAAAECQAACBIAABAkAAAgSAAAQJAAAIAgAQAAQQIAAIIEAAAECQAACBIAABAkAAAgSAAAQJAAAIAgAQAAQQIAAIIEAAAECQAACBIAABAkAAAgSAAAQJAAAIAgAQAAQQIAAIIEAAAECQAACBIAABAkAAAgSAAAQJAAAIAgAQAAQQIAAIIEAAAECQAACBIAABAkAAAgSAAAQJAAAIAgAQAAQQIAAIIEAAAECQAACBIAABD0CZSKA3DJWbEIAAAAAElFTkSuQmCC\"></div><div style=\"vertical-align: middle; max-width: 514px; display: flex; justify-content: space-between;\"><div style=\"float: left;\"><div title=\"#121f1fff\" style=\"display: inline-block; width: 1em; height: 1em; margin: 0; vertical-align: middle; border: 1px solid #555; background-color: #121f1fff;\"></div> under</div><div style=\"margin: 0 auto; display: inline-block;\">bad <div title=\"#00000000\" style=\"display: inline-block; width: 1em; height: 1em; margin: 0; vertical-align: middle; border: 1px solid #555; background-color: #00000000;\"></div></div><div style=\"float: right;\">over <div title=\"#eba75fff\" style=\"display: inline-block; width: 1em; height: 1em; margin: 0; vertical-align: middle; border: 1px solid #555; background-color: #eba75fff;\"></div></div></div>"
      ],
      "text/plain": [
       "<matplotlib.colors.LinearSegmentedColormap at 0x10f281990>"
      ]
     },
     "execution_count": 6,
     "metadata": {},
     "output_type": "execute_result"
    }
   ],
   "source": [
    "mycmap"
   ]
  },
  {
   "cell_type": "code",
   "execution_count": null,
   "metadata": {},
   "outputs": [],
   "source": [
    "user = 'ulyanadupletsa'\n",
    "PATH_TO_MAPS = '/Users/' + str(user) + '/Documents/Radio-Sirens/maps/'"
   ]
  },
  {
   "cell_type": "code",
   "execution_count": 17,
   "metadata": {},
   "outputs": [
    {
     "name": "stderr",
     "output_type": "stream",
     "text": [
      "/Users/ulyanadupletsa/.local/lib/python3.10/site-packages/healpy/visufunc.py:1503: HealpyDeprecationWarning: \"verbose\" was deprecated in version 1.15.0 and will be removed in a future version. \n",
      "  ax.graticule(dpar=dpar, dmer=dmer, coord=coord, local=local, **kwds)\n",
      "/Users/ulyanadupletsa/.local/lib/python3.10/site-packages/healpy/visufunc.py:1503: HealpyDeprecationWarning: \"verbose\" was deprecated in version 1.15.0 and will be removed in a future version. \n",
      "  ax.graticule(dpar=dpar, dmer=dmer, coord=coord, local=local, **kwds)\n",
      "/Users/ulyanadupletsa/.local/lib/python3.10/site-packages/healpy/visufunc.py:1503: HealpyDeprecationWarning: \"verbose\" was deprecated in version 1.15.0 and will be removed in a future version. \n",
      "  ax.graticule(dpar=dpar, dmer=dmer, coord=coord, local=local, **kwds)\n",
      "/Users/ulyanadupletsa/.local/lib/python3.10/site-packages/healpy/visufunc.py:1503: HealpyDeprecationWarning: \"verbose\" was deprecated in version 1.15.0 and will be removed in a future version. \n",
      "  ax.graticule(dpar=dpar, dmer=dmer, coord=coord, local=local, **kwds)\n",
      "/Users/ulyanadupletsa/.local/lib/python3.10/site-packages/healpy/visufunc.py:1503: HealpyDeprecationWarning: \"verbose\" was deprecated in version 1.15.0 and will be removed in a future version. \n",
      "  ax.graticule(dpar=dpar, dmer=dmer, coord=coord, local=local, **kwds)\n",
      "/Users/ulyanadupletsa/.local/lib/python3.10/site-packages/healpy/visufunc.py:1503: HealpyDeprecationWarning: \"verbose\" was deprecated in version 1.15.0 and will be removed in a future version. \n",
      "  ax.graticule(dpar=dpar, dmer=dmer, coord=coord, local=local, **kwds)\n",
      "/Users/ulyanadupletsa/.local/lib/python3.10/site-packages/healpy/visufunc.py:1503: HealpyDeprecationWarning: \"verbose\" was deprecated in version 1.15.0 and will be removed in a future version. \n",
      "  ax.graticule(dpar=dpar, dmer=dmer, coord=coord, local=local, **kwds)\n",
      "/Users/ulyanadupletsa/.local/lib/python3.10/site-packages/healpy/visufunc.py:1503: HealpyDeprecationWarning: \"verbose\" was deprecated in version 1.15.0 and will be removed in a future version. \n",
      "  ax.graticule(dpar=dpar, dmer=dmer, coord=coord, local=local, **kwds)\n",
      "/Users/ulyanadupletsa/.local/lib/python3.10/site-packages/healpy/visufunc.py:1503: HealpyDeprecationWarning: \"verbose\" was deprecated in version 1.15.0 and will be removed in a future version. \n",
      "  ax.graticule(dpar=dpar, dmer=dmer, coord=coord, local=local, **kwds)\n",
      "/Users/ulyanadupletsa/.local/lib/python3.10/site-packages/healpy/visufunc.py:1503: HealpyDeprecationWarning: \"verbose\" was deprecated in version 1.15.0 and will be removed in a future version. \n",
      "  ax.graticule(dpar=dpar, dmer=dmer, coord=coord, local=local, **kwds)\n",
      "/Users/ulyanadupletsa/.local/lib/python3.10/site-packages/healpy/visufunc.py:1503: HealpyDeprecationWarning: \"verbose\" was deprecated in version 1.15.0 and will be removed in a future version. \n",
      "  ax.graticule(dpar=dpar, dmer=dmer, coord=coord, local=local, **kwds)\n",
      "/Users/ulyanadupletsa/.local/lib/python3.10/site-packages/healpy/visufunc.py:1503: HealpyDeprecationWarning: \"verbose\" was deprecated in version 1.15.0 and will be removed in a future version. \n",
      "  ax.graticule(dpar=dpar, dmer=dmer, coord=coord, local=local, **kwds)\n",
      "/Users/ulyanadupletsa/.local/lib/python3.10/site-packages/healpy/visufunc.py:1503: HealpyDeprecationWarning: \"verbose\" was deprecated in version 1.15.0 and will be removed in a future version. \n",
      "  ax.graticule(dpar=dpar, dmer=dmer, coord=coord, local=local, **kwds)\n",
      "/Users/ulyanadupletsa/.local/lib/python3.10/site-packages/healpy/visufunc.py:1503: HealpyDeprecationWarning: \"verbose\" was deprecated in version 1.15.0 and will be removed in a future version. \n",
      "  ax.graticule(dpar=dpar, dmer=dmer, coord=coord, local=local, **kwds)\n",
      "/Users/ulyanadupletsa/.local/lib/python3.10/site-packages/healpy/visufunc.py:1503: HealpyDeprecationWarning: \"verbose\" was deprecated in version 1.15.0 and will be removed in a future version. \n",
      "  ax.graticule(dpar=dpar, dmer=dmer, coord=coord, local=local, **kwds)\n",
      "/Users/ulyanadupletsa/.local/lib/python3.10/site-packages/healpy/visufunc.py:1503: HealpyDeprecationWarning: \"verbose\" was deprecated in version 1.15.0 and will be removed in a future version. \n",
      "  ax.graticule(dpar=dpar, dmer=dmer, coord=coord, local=local, **kwds)\n",
      "/Users/ulyanadupletsa/.local/lib/python3.10/site-packages/healpy/visufunc.py:1503: HealpyDeprecationWarning: \"verbose\" was deprecated in version 1.15.0 and will be removed in a future version. \n",
      "  ax.graticule(dpar=dpar, dmer=dmer, coord=coord, local=local, **kwds)\n",
      "/Users/ulyanadupletsa/.local/lib/python3.10/site-packages/healpy/visufunc.py:1503: HealpyDeprecationWarning: \"verbose\" was deprecated in version 1.15.0 and will be removed in a future version. \n",
      "  ax.graticule(dpar=dpar, dmer=dmer, coord=coord, local=local, **kwds)\n",
      "/Users/ulyanadupletsa/.local/lib/python3.10/site-packages/healpy/visufunc.py:1503: HealpyDeprecationWarning: \"verbose\" was deprecated in version 1.15.0 and will be removed in a future version. \n",
      "  ax.graticule(dpar=dpar, dmer=dmer, coord=coord, local=local, **kwds)\n",
      "/Users/ulyanadupletsa/.local/lib/python3.10/site-packages/healpy/visufunc.py:1503: HealpyDeprecationWarning: \"verbose\" was deprecated in version 1.15.0 and will be removed in a future version. \n",
      "  ax.graticule(dpar=dpar, dmer=dmer, coord=coord, local=local, **kwds)\n",
      "/Users/ulyanadupletsa/.local/lib/python3.10/site-packages/healpy/visufunc.py:1503: HealpyDeprecationWarning: \"verbose\" was deprecated in version 1.15.0 and will be removed in a future version. \n",
      "  ax.graticule(dpar=dpar, dmer=dmer, coord=coord, local=local, **kwds)\n",
      "/Users/ulyanadupletsa/.local/lib/python3.10/site-packages/healpy/visufunc.py:1503: HealpyDeprecationWarning: \"verbose\" was deprecated in version 1.15.0 and will be removed in a future version. \n",
      "  ax.graticule(dpar=dpar, dmer=dmer, coord=coord, local=local, **kwds)\n",
      "/Users/ulyanadupletsa/.local/lib/python3.10/site-packages/healpy/visufunc.py:1503: HealpyDeprecationWarning: \"verbose\" was deprecated in version 1.15.0 and will be removed in a future version. \n",
      "  ax.graticule(dpar=dpar, dmer=dmer, coord=coord, local=local, **kwds)\n",
      "/Users/ulyanadupletsa/.local/lib/python3.10/site-packages/healpy/visufunc.py:1503: HealpyDeprecationWarning: \"verbose\" was deprecated in version 1.15.0 and will be removed in a future version. \n",
      "  ax.graticule(dpar=dpar, dmer=dmer, coord=coord, local=local, **kwds)\n",
      "/Users/ulyanadupletsa/.local/lib/python3.10/site-packages/healpy/visufunc.py:1503: HealpyDeprecationWarning: \"verbose\" was deprecated in version 1.15.0 and will be removed in a future version. \n",
      "  ax.graticule(dpar=dpar, dmer=dmer, coord=coord, local=local, **kwds)\n",
      "/Users/ulyanadupletsa/.local/lib/python3.10/site-packages/healpy/visufunc.py:1503: HealpyDeprecationWarning: \"verbose\" was deprecated in version 1.15.0 and will be removed in a future version. \n",
      "  ax.graticule(dpar=dpar, dmer=dmer, coord=coord, local=local, **kwds)\n",
      "/Users/ulyanadupletsa/.local/lib/python3.10/site-packages/healpy/visufunc.py:1503: HealpyDeprecationWarning: \"verbose\" was deprecated in version 1.15.0 and will be removed in a future version. \n",
      "  ax.graticule(dpar=dpar, dmer=dmer, coord=coord, local=local, **kwds)\n",
      "/Users/ulyanadupletsa/.local/lib/python3.10/site-packages/healpy/visufunc.py:1503: HealpyDeprecationWarning: \"verbose\" was deprecated in version 1.15.0 and will be removed in a future version. \n",
      "  ax.graticule(dpar=dpar, dmer=dmer, coord=coord, local=local, **kwds)\n",
      "/Users/ulyanadupletsa/.local/lib/python3.10/site-packages/healpy/visufunc.py:1503: HealpyDeprecationWarning: \"verbose\" was deprecated in version 1.15.0 and will be removed in a future version. \n",
      "  ax.graticule(dpar=dpar, dmer=dmer, coord=coord, local=local, **kwds)\n",
      "/Users/ulyanadupletsa/.local/lib/python3.10/site-packages/healpy/visufunc.py:1503: HealpyDeprecationWarning: \"verbose\" was deprecated in version 1.15.0 and will be removed in a future version. \n",
      "  ax.graticule(dpar=dpar, dmer=dmer, coord=coord, local=local, **kwds)\n",
      "/Users/ulyanadupletsa/.local/lib/python3.10/site-packages/healpy/visufunc.py:1503: HealpyDeprecationWarning: \"verbose\" was deprecated in version 1.15.0 and will be removed in a future version. \n",
      "  ax.graticule(dpar=dpar, dmer=dmer, coord=coord, local=local, **kwds)\n",
      "/Users/ulyanadupletsa/.local/lib/python3.10/site-packages/healpy/visufunc.py:1503: HealpyDeprecationWarning: \"verbose\" was deprecated in version 1.15.0 and will be removed in a future version. \n",
      "  ax.graticule(dpar=dpar, dmer=dmer, coord=coord, local=local, **kwds)\n",
      "/Users/ulyanadupletsa/.local/lib/python3.10/site-packages/healpy/visufunc.py:1503: HealpyDeprecationWarning: \"verbose\" was deprecated in version 1.15.0 and will be removed in a future version. \n",
      "  ax.graticule(dpar=dpar, dmer=dmer, coord=coord, local=local, **kwds)\n",
      "/Users/ulyanadupletsa/.local/lib/python3.10/site-packages/healpy/visufunc.py:1503: HealpyDeprecationWarning: \"verbose\" was deprecated in version 1.15.0 and will be removed in a future version. \n",
      "  ax.graticule(dpar=dpar, dmer=dmer, coord=coord, local=local, **kwds)\n",
      "/Users/ulyanadupletsa/.local/lib/python3.10/site-packages/healpy/visufunc.py:1503: HealpyDeprecationWarning: \"verbose\" was deprecated in version 1.15.0 and will be removed in a future version. \n",
      "  ax.graticule(dpar=dpar, dmer=dmer, coord=coord, local=local, **kwds)\n",
      "/Users/ulyanadupletsa/.local/lib/python3.10/site-packages/healpy/visufunc.py:1503: HealpyDeprecationWarning: \"verbose\" was deprecated in version 1.15.0 and will be removed in a future version. \n",
      "  ax.graticule(dpar=dpar, dmer=dmer, coord=coord, local=local, **kwds)\n"
     ]
    }
   ],
   "source": [
    "#halofit maps\n",
    "cls = {}\n",
    "count_data = {}\n",
    "count_map = {}\n",
    "shot_noise = {}\n",
    "mean_count_per_pix = {}\n",
    "np.random.seed(42)\n",
    "for file in os.listdir(PATH_TO_MAPS + 'count_maps/'):\n",
    "    # strip string to get the redshit range out of the name of the map\n",
    "    name_strips = file.split('_')\n",
    "    snapshot, zmin, zmax, nside = name_strips[2][8:10], name_strips[3][4:8], name_strips[4][4:8], name_strips[5][5:8]\n",
    "    zmean = np.round((float(zmin) + float(zmax))/2, 3)\n",
    "    count_data[str(zmean)] = np.loadtxt(PATH_TO_MAPS + 'count_maps/' + file)\n",
    "    # REMEMBER TO USE THE ORIGINAL PIXELIZATION\n",
    "    npix = hp.nside2npix(int(nside))\n",
    "    mean_count_per_pix[str(zmean)] = np.sum(count_data[str(zmean)])/npix\n",
    "\n",
    "    count_map[str(zmean)] = (count_data[str(zmean)] - mean_count_per_pix[str(zmean)])/mean_count_per_pix[str(zmean)]\n",
    "    hp.mollview(count_map[str(zmean)], cmap=mycmap, title='z=%s' %(zmean))\n",
    "    # Adjust title font size using graticule\n",
    "    hp.graticule(verbose=False)  # Ensures grid is added\n",
    "    plt.title('z=%s' % (zmean), fontsize=18)  # Adjust font size\n",
    "    plt.savefig('plots/maps/map_snapshot_%s.pdf' %snapshot)\n",
    "    plt.close() "
   ]
  },
  {
   "cell_type": "code",
   "execution_count": null,
   "metadata": {},
   "outputs": [],
   "source": []
  }
 ],
 "metadata": {
  "kernelspec": {
   "display_name": "healpy",
   "language": "python",
   "name": "python3"
  },
  "language_info": {
   "codemirror_mode": {
    "name": "ipython",
    "version": 3
   },
   "file_extension": ".py",
   "mimetype": "text/x-python",
   "name": "python",
   "nbconvert_exporter": "python",
   "pygments_lexer": "ipython3",
   "version": "3.10.15"
  }
 },
 "nbformat": 4,
 "nbformat_minor": 2
}

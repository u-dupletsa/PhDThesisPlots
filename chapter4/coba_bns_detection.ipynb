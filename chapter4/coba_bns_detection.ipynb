{
 "cells": [
  {
   "cell_type": "code",
   "execution_count": 13,
   "metadata": {},
   "outputs": [],
   "source": [
    "import numpy as np\n",
    "import pandas as pd\n",
    "import matplotlib.pyplot as plt\n",
    "import matplotlib.patches as mpatches \n",
    "import seaborn as sns"
   ]
  },
  {
   "cell_type": "code",
   "execution_count": 82,
   "metadata": {},
   "outputs": [],
   "source": [
    "# General settings\n",
    "import matplotlib as mpl\n",
    "mpl.rc_file('/Users/ulyanadupletsa/Documents/PhDThesisPlots/matplotlibrc')\n",
    "\n",
    "mpl.rc('xtick', labelsize = 16) \n",
    "mpl.rc('ytick', labelsize = 16)"
   ]
  },
  {
   "cell_type": "code",
   "execution_count": 69,
   "metadata": {},
   "outputs": [],
   "source": [
    "colors = ['lightgray', '#2f4f4f', '#f6b26b', '#e76f51', '#6d8383', '#ffe599']"
   ]
  },
  {
   "cell_type": "code",
   "execution_count": 70,
   "metadata": {},
   "outputs": [],
   "source": [
    "PATH_TO_DATA = '/Users/ulyanadupletsa/Documents/CoBA/Results/'"
   ]
  },
  {
   "cell_type": "code",
   "execution_count": 71,
   "metadata": {},
   "outputs": [],
   "source": [
    "file_names = ['Errors_ET_cryo_10_BNS_SNR8.0', \n",
    "              'Errors_ET_HF_10_BNS_SNR8.0', \n",
    "              'Errors_ET_cryo_15_BNS_SNR8.0',\n",
    "              'Errors_ET_HF_15_BNS_SNR8.0', \n",
    "              'Errors_L_Sar15_ET_cryo_L_Neth15_ET_cryo_BNS_SNR8.0',\n",
    "              'Errors_L_Sar15_ET_HF_L_Neth15_ET_HF_BNS_SNR8.0',\n",
    "              'Errors_L_Sar20_ET_cryo_L_Neth20_ET_cryo_BNS_SNR8.0', \n",
    "              'Errors_L_Sar20_ET_HF_L_Neth20_ET_HF_BNS_SNR8.0']\n",
    "titles = ['$\\Delta$ 10km HFLF cryo',\n",
    "          '$\\Delta$ 10km HF', \n",
    "          '$\\Delta$ 15km HFLF cryo',\n",
    "          '$\\Delta$ 15km HF',     \n",
    "          '2L 15km HFLF cryo', \n",
    "          '2L 15km HF', \n",
    "          '2L 20km HFLF cryo',\n",
    "          '2L 20km HF']"
   ]
  },
  {
   "cell_type": "code",
   "execution_count": 72,
   "metadata": {},
   "outputs": [],
   "source": [
    "lbs_errs = ['snr', 'mass_1', 'mass_2', 'luminosity_distance', \n",
    "            'dec', 'ra', 'theta_jn', 'psi', 'geocent_time', 'phase', \n",
    "            'redshift', 'a_1', 'a_2', 'lambda_1', 'lambda_2', \n",
    "            'err_mass_1', 'err_mass_2', 'err_luminosity_distance', \n",
    "            'err_dec', 'err_ra', 'err_theta_jn', 'err_psi', 'err_geocent_time', \n",
    "            'err_phase', 'err_a_1', 'err_a_2', 'err_lambda_1', 'err_lambda_2', \n",
    "            'sky_loc']\n",
    "lbs_signals = ['mass_1', 'mass_2', 'luminosity_distance', 'dec', 'ra', 'theta_jn', 'psi', 'geocent_time', 'phase', \n",
    "               'redshift', 'a_1', 'a_2', 'lambda_1', 'lambda_2', 'ET_cryo_10', 'ET_cryo_15', 'ET_HF_10', 'ET_HF_15', \n",
    "               'ET_2L_cryo_15', 'ET_2L_cryo_20', 'ET_2L_HF_15', 'ET_2L_HF_20']"
   ]
  },
  {
   "cell_type": "code",
   "execution_count": 73,
   "metadata": {},
   "outputs": [],
   "source": [
    "injections = pd.read_csv(PATH_TO_DATA + 'Signals.txt', names = lbs_signals, skiprows = 1, delimiter = ' ')"
   ]
  },
  {
   "cell_type": "code",
   "execution_count": 74,
   "metadata": {},
   "outputs": [],
   "source": [
    "sky_loc_area = [1000, 100, 10, 1]\n",
    "\n",
    "inj = mpatches.Patch(color=colors[0], label='injected')\n",
    "det = mpatches.Patch(color=colors[1], label='detected')  \n",
    "sky_loc0 = mpatches.Patch(color=colors[2], label='$\\Delta \\Omega < %s$ deg$^2$' %str(sky_loc_area[0]))\n",
    "sky_loc1 = mpatches.Patch(color=colors[3], label='$\\Delta \\Omega < %s$ deg$^2$' %str(sky_loc_area[1]))\n",
    "sky_loc2 = mpatches.Patch(color=colors[4], label='$\\Delta \\Omega < %s$ deg$^2$' %str(sky_loc_area[2]))\n",
    "sky_loc3 = mpatches.Patch(color=colors[5], label='$\\Delta \\Omega < %s$ deg$^2$' %str(sky_loc_area[3]))"
   ]
  },
  {
   "cell_type": "code",
   "execution_count": null,
   "metadata": {},
   "outputs": [
    {
     "name": "stdout",
     "output_type": "stream",
     "text": [
      "0\n"
     ]
    },
    {
     "name": "stderr",
     "output_type": "stream",
     "text": [
      "/var/folders/h7/9cf4n2f137zdvy422j_dnbcw0000gn/T/ipykernel_22024/3398545227.py:24: UserWarning: No artists with labels found to put in legend.  Note that artists whose label start with an underscore are ignored when legend() is called with no argument.\n",
      "  ax.legend(title=titles[i], title_fontsize=18, frameon=False, loc='upper center')\n"
     ]
    },
    {
     "name": "stdout",
     "output_type": "stream",
     "text": [
      "1\n"
     ]
    },
    {
     "name": "stderr",
     "output_type": "stream",
     "text": [
      "/var/folders/h7/9cf4n2f137zdvy422j_dnbcw0000gn/T/ipykernel_22024/3398545227.py:24: UserWarning: No artists with labels found to put in legend.  Note that artists whose label start with an underscore are ignored when legend() is called with no argument.\n",
      "  ax.legend(title=titles[i], title_fontsize=18, frameon=False, loc='upper center')\n"
     ]
    },
    {
     "name": "stdout",
     "output_type": "stream",
     "text": [
      "2\n"
     ]
    },
    {
     "name": "stderr",
     "output_type": "stream",
     "text": [
      "/var/folders/h7/9cf4n2f137zdvy422j_dnbcw0000gn/T/ipykernel_22024/3398545227.py:24: UserWarning: No artists with labels found to put in legend.  Note that artists whose label start with an underscore are ignored when legend() is called with no argument.\n",
      "  ax.legend(title=titles[i], title_fontsize=18, frameon=False, loc='upper center')\n"
     ]
    },
    {
     "name": "stdout",
     "output_type": "stream",
     "text": [
      "3\n"
     ]
    }
   ],
   "source": [
    "# Plot histograms of sky-localization for each data set in sub_files list\n",
    "# compare column-wise, HFLF cryo vs HF\n",
    "# make one figure with 2 columns\n",
    "\n",
    "fig, axs = plt.subplots(4, 2, figsize=(10, 12), sharex=True, sharey=True)\n",
    "\n",
    "\n",
    "for i, ax in enumerate(axs.flat):\n",
    "    print(i)\n",
    "    data = pd.read_csv(PATH_TO_DATA + file_names[i] + '.txt', names = lbs_errs, skiprows = 1, delimiter = ' ')\n",
    "    data = data.loc[data['redshift'] <= 3.]\n",
    "    sns.histplot(x = injections['redshift'], bins = np.arange(0, 3, 0.1), ax=ax, color = colors[0], edgecolor='lightgray', linewidth=0.25)\n",
    "    sns.histplot(x = data['redshift'], bins = np.arange(0, 3, 0.1), ax=ax, color = colors[1], edgecolor='lightgray', linewidth=0.25)\n",
    "    for j, value_area in enumerate(sky_loc_area):\n",
    "        sky_loc_filtered = data.loc[4.6 * (180./np.pi)**2 * data['sky_loc'] < value_area]\n",
    "        sns.histplot(x = sky_loc_filtered['redshift'], bins = np.arange(0, 3, 0.1),\n",
    "                     ax=ax, color=colors[j+2], edgecolor='lightgray', linewidth=0.25)\n",
    "\n",
    "    ax.set_xlabel('Redshift [$z$]', fontsize=18)\n",
    "    ax.set_ylabel('Counts', fontsize=18)\n",
    "    ax.set_yscale('log')\n",
    "    ax.set_ylim(1, 1e6)\n",
    "    ax.set_yticks([1e1, 1e2, 1e3, 1e4, 1e5])\n",
    "    ax.legend(title=titles[i], title_fontsize=18, frameon=False, loc='upper center')\n",
    "\n",
    "fig.subplots_adjust(hspace=0, wspace=0)\n",
    "fig.legend(handles=[inj, det, sky_loc0, sky_loc1, sky_loc2, sky_loc3], fontsize=18, loc='upper center', bbox_to_anchor=(0.5,0.96), ncol = 3, frameon=False)\n",
    "plt.savefig('plots/coba_hist_detection_sky_loc.pdf', bbox_inches='tight')\n",
    "plt.show()\n",
    "\n"
   ]
  },
  {
   "cell_type": "code",
   "execution_count": null,
   "metadata": {},
   "outputs": [],
   "source": []
  }
 ],
 "metadata": {
  "kernelspec": {
   "display_name": "phd_thesis",
   "language": "python",
   "name": "python3"
  },
  "language_info": {
   "codemirror_mode": {
    "name": "ipython",
    "version": 3
   },
   "file_extension": ".py",
   "mimetype": "text/x-python",
   "name": "python",
   "nbconvert_exporter": "python",
   "pygments_lexer": "ipython3",
   "version": "3.9.21"
  }
 },
 "nbformat": 4,
 "nbformat_minor": 2
}

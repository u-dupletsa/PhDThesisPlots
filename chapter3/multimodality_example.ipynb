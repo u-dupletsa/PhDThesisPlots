{
 "cells": [
  {
   "cell_type": "code",
   "execution_count": 22,
   "metadata": {},
   "outputs": [],
   "source": [
    "import pandas as pd\n",
    "import numpy as np\n",
    "import bilby\n",
    "import corner\n",
    "\n",
    "import matplotlib.pyplot as plt\n",
    "import matplotlib.patches as mpatches"
   ]
  },
  {
   "cell_type": "code",
   "execution_count": 23,
   "metadata": {},
   "outputs": [],
   "source": [
    "# General settings\n",
    "import matplotlib as mpl\n",
    "mpl.rc_file('/Users/ulyana/Documents/PhDThesisPlots/matplotlibrc')\n",
    "\n",
    "mpl.rc('xtick', labelsize = 14) \n",
    "mpl.rc('ytick', labelsize = 14)"
   ]
  },
  {
   "cell_type": "code",
   "execution_count": 24,
   "metadata": {},
   "outputs": [],
   "source": [
    "my_color = '#97a7a7'\n",
    "my_color_darker = '#2f4f4f'\n",
    "my_color2 = '#eba75f'\n",
    "my_color2_darker = '#f6b26b'"
   ]
  },
  {
   "cell_type": "code",
   "execution_count": 25,
   "metadata": {},
   "outputs": [],
   "source": [
    "PATH_TO_DATA = '/Users/ulyana/Documents/PhDThesisData/Bilby4GWFish/'"
   ]
  },
  {
   "cell_type": "code",
   "execution_count": 26,
   "metadata": {},
   "outputs": [],
   "source": [
    "default_kwargs = dict(\n",
    "            bins=50, smooth=0.9,\n",
    "            smooth1d=0.8,\n",
    "            show_titles=True,\n",
    "            title_kwargs=dict(fontsize=24),\n",
    "            title_fmt='.2f',\n",
    "            title_quantiles=[0.16,0.5,0.84],\n",
    "            label_kwargs = dict(color = 'black', fontsize = 24),\n",
    "            truth_color='black', quantiles=[0.16, 0.84],\n",
    "            levels=(1 - np.exp(-0.5), 1 - np.exp(-2), 1 - np.exp(-9 / 2.)),\n",
    "            plot_density=False, plot_datapoints=True, fill_contours=True,\n",
    "            max_n_ticks=3, labelpad=0.1\n",
    ")"
   ]
  },
  {
   "cell_type": "code",
   "execution_count": 27,
   "metadata": {},
   "outputs": [],
   "source": [
    "corner_lbs = [\n",
    "              'RA [rad]',\n",
    "              'DEC [rad]'\n",
    "            ]\n",
    "title_labels = ['', ''] "
   ]
  },
  {
   "cell_type": "code",
   "execution_count": 28,
   "metadata": {},
   "outputs": [],
   "source": [
    "input_file = '30plus60'\n",
    "fig_label = 'RADEC_corner_15plus30'"
   ]
  },
  {
   "cell_type": "code",
   "execution_count": 29,
   "metadata": {},
   "outputs": [],
   "source": [
    "corner_params = ['ra', 'dec']"
   ]
  },
  {
   "cell_type": "code",
   "execution_count": 32,
   "metadata": {},
   "outputs": [
    {
     "ename": "AttributeError",
     "evalue": "module 'numpy._core.umath' has no attribute '_ljust'",
     "output_type": "error",
     "traceback": [
      "\u001b[0;31m---------------------------------------------------------------------------\u001b[0m",
      "\u001b[0;31mAttributeError\u001b[0m                            Traceback (most recent call last)",
      "Cell \u001b[0;32mIn[32], line 3\u001b[0m\n\u001b[1;32m      1\u001b[0m \u001b[38;5;66;03m#injections = pd.read_hdf(PATH_TO_DATA + 'CBC_pop_' + input_file + '.hdf5')\u001b[39;00m\n\u001b[1;32m      2\u001b[0m covm \u001b[38;5;241m=\u001b[39m np\u001b[38;5;241m.\u001b[39mloadtxt(PATH_TO_DATA \u001b[38;5;241m+\u001b[39m \u001b[38;5;124m'\u001b[39m\u001b[38;5;124mInverse_Fisher_\u001b[39m\u001b[38;5;124m'\u001b[39m \u001b[38;5;241m+\u001b[39m input_file \u001b[38;5;241m+\u001b[39m \u001b[38;5;124m'\u001b[39m\u001b[38;5;124m.txt\u001b[39m\u001b[38;5;124m'\u001b[39m)\n\u001b[0;32m----> 3\u001b[0m bilby_output \u001b[38;5;241m=\u001b[39m \u001b[43mbilby\u001b[49m\u001b[38;5;241;43m.\u001b[39;49m\u001b[43mcore\u001b[49m\u001b[38;5;241;43m.\u001b[39;49m\u001b[43mresult\u001b[49m\u001b[38;5;241;43m.\u001b[39;49m\u001b[43mread_in_result\u001b[49m\u001b[43m(\u001b[49m\u001b[43mPATH_TO_DATA\u001b[49m\u001b[43m \u001b[49m\u001b[38;5;241;43m+\u001b[39;49m\u001b[43m \u001b[49m\u001b[43minput_file\u001b[49m\u001b[43m \u001b[49m\u001b[38;5;241;43m+\u001b[39;49m\u001b[38;5;124;43m'\u001b[39;49m\u001b[38;5;124;43m_result.json\u001b[39;49m\u001b[38;5;124;43m'\u001b[39;49m\u001b[43m)\u001b[49m\n\u001b[1;32m      4\u001b[0m posteriors \u001b[38;5;241m=\u001b[39m bilby_output\u001b[38;5;241m.\u001b[39mposterior[corner_params]\n",
      "File \u001b[0;32m~/anaconda3/envs/gwfish/lib/python3.9/site-packages/bilby/core/result.py:112\u001b[0m, in \u001b[0;36mread_in_result\u001b[0;34m(filename, outdir, label, extension, gzip, result_class)\u001b[0m\n\u001b[1;32m    109\u001b[0m     extension \u001b[38;5;241m=\u001b[39m os\u001b[38;5;241m.\u001b[39mpath\u001b[38;5;241m.\u001b[39msplitext(os\u001b[38;5;241m.\u001b[39mpath\u001b[38;5;241m.\u001b[39msplitext(filename)[\u001b[38;5;241m0\u001b[39m])[\u001b[38;5;241m1\u001b[39m]\u001b[38;5;241m.\u001b[39mlstrip(\u001b[38;5;124m'\u001b[39m\u001b[38;5;124m.\u001b[39m\u001b[38;5;124m'\u001b[39m)\n\u001b[1;32m    111\u001b[0m \u001b[38;5;28;01mif\u001b[39;00m \u001b[38;5;124m'\u001b[39m\u001b[38;5;124mjson\u001b[39m\u001b[38;5;124m'\u001b[39m \u001b[38;5;129;01min\u001b[39;00m extension:\n\u001b[0;32m--> 112\u001b[0m     result \u001b[38;5;241m=\u001b[39m \u001b[43mresult_class\u001b[49m\u001b[38;5;241;43m.\u001b[39;49m\u001b[43mfrom_json\u001b[49m\u001b[43m(\u001b[49m\u001b[43mfilename\u001b[49m\u001b[38;5;241;43m=\u001b[39;49m\u001b[43mfilename\u001b[49m\u001b[43m)\u001b[49m\n\u001b[1;32m    113\u001b[0m \u001b[38;5;28;01melif\u001b[39;00m (\u001b[38;5;124m'\u001b[39m\u001b[38;5;124mhdf5\u001b[39m\u001b[38;5;124m'\u001b[39m \u001b[38;5;129;01min\u001b[39;00m extension) \u001b[38;5;129;01mor\u001b[39;00m (\u001b[38;5;124m'\u001b[39m\u001b[38;5;124mh5\u001b[39m\u001b[38;5;124m'\u001b[39m \u001b[38;5;129;01min\u001b[39;00m extension):\n\u001b[1;32m    114\u001b[0m     result \u001b[38;5;241m=\u001b[39m result_class\u001b[38;5;241m.\u001b[39mfrom_hdf5(filename\u001b[38;5;241m=\u001b[39mfilename)\n",
      "File \u001b[0;32m~/anaconda3/envs/gwfish/lib/python3.9/site-packages/bilby/core/result.py:566\u001b[0m, in \u001b[0;36mResult.from_json\u001b[0;34m(cls, filename, outdir, label, gzip)\u001b[0m\n\u001b[1;32m    564\u001b[0m \u001b[38;5;28;01mif\u001b[39;00m os\u001b[38;5;241m.\u001b[39mpath\u001b[38;5;241m.\u001b[39misfile(filename):\n\u001b[1;32m    565\u001b[0m     \u001b[38;5;28;01mtry\u001b[39;00m:\n\u001b[0;32m--> 566\u001b[0m         dictionary \u001b[38;5;241m=\u001b[39m \u001b[43mload_json\u001b[49m\u001b[43m(\u001b[49m\u001b[43mfilename\u001b[49m\u001b[43m,\u001b[49m\u001b[43m \u001b[49m\u001b[43mgzip\u001b[49m\u001b[43m)\u001b[49m\n\u001b[1;32m    567\u001b[0m     \u001b[38;5;28;01mexcept\u001b[39;00m JSONDecodeError \u001b[38;5;28;01mas\u001b[39;00m e:\n\u001b[1;32m    568\u001b[0m         \u001b[38;5;28;01mraise\u001b[39;00m \u001b[38;5;167;01mIOError\u001b[39;00m(\n\u001b[1;32m    569\u001b[0m             \u001b[38;5;124m\"\u001b[39m\u001b[38;5;124mJSON failed to decode \u001b[39m\u001b[38;5;132;01m{}\u001b[39;00m\u001b[38;5;124m with message \u001b[39m\u001b[38;5;132;01m{}\u001b[39;00m\u001b[38;5;124m\"\u001b[39m\u001b[38;5;241m.\u001b[39mformat(filename, e)\n\u001b[1;32m    570\u001b[0m         )\n",
      "File \u001b[0;32m~/anaconda3/envs/gwfish/lib/python3.9/site-packages/bilby/core/utils/io.py:144\u001b[0m, in \u001b[0;36mload_json\u001b[0;34m(filename, gzip)\u001b[0m\n\u001b[1;32m    142\u001b[0m \u001b[38;5;28;01melse\u001b[39;00m:\n\u001b[1;32m    143\u001b[0m     \u001b[38;5;28;01mwith\u001b[39;00m \u001b[38;5;28mopen\u001b[39m(filename, \u001b[38;5;124m\"\u001b[39m\u001b[38;5;124mr\u001b[39m\u001b[38;5;124m\"\u001b[39m) \u001b[38;5;28;01mas\u001b[39;00m file:\n\u001b[0;32m--> 144\u001b[0m         dictionary \u001b[38;5;241m=\u001b[39m \u001b[43mjson\u001b[49m\u001b[38;5;241;43m.\u001b[39;49m\u001b[43mload\u001b[49m\u001b[43m(\u001b[49m\u001b[43mfile\u001b[49m\u001b[43m,\u001b[49m\u001b[43m \u001b[49m\u001b[43mobject_hook\u001b[49m\u001b[38;5;241;43m=\u001b[39;49m\u001b[43mdecode_bilby_json\u001b[49m\u001b[43m)\u001b[49m\n\u001b[1;32m    145\u001b[0m \u001b[38;5;28;01mreturn\u001b[39;00m dictionary\n",
      "File \u001b[0;32m~/anaconda3/envs/gwfish/lib/python3.9/json/__init__.py:293\u001b[0m, in \u001b[0;36mload\u001b[0;34m(fp, cls, object_hook, parse_float, parse_int, parse_constant, object_pairs_hook, **kw)\u001b[0m\n\u001b[1;32m    274\u001b[0m \u001b[38;5;28;01mdef\u001b[39;00m\u001b[38;5;250m \u001b[39m\u001b[38;5;21mload\u001b[39m(fp, \u001b[38;5;241m*\u001b[39m, \u001b[38;5;28mcls\u001b[39m\u001b[38;5;241m=\u001b[39m\u001b[38;5;28;01mNone\u001b[39;00m, object_hook\u001b[38;5;241m=\u001b[39m\u001b[38;5;28;01mNone\u001b[39;00m, parse_float\u001b[38;5;241m=\u001b[39m\u001b[38;5;28;01mNone\u001b[39;00m,\n\u001b[1;32m    275\u001b[0m         parse_int\u001b[38;5;241m=\u001b[39m\u001b[38;5;28;01mNone\u001b[39;00m, parse_constant\u001b[38;5;241m=\u001b[39m\u001b[38;5;28;01mNone\u001b[39;00m, object_pairs_hook\u001b[38;5;241m=\u001b[39m\u001b[38;5;28;01mNone\u001b[39;00m, \u001b[38;5;241m*\u001b[39m\u001b[38;5;241m*\u001b[39mkw):\n\u001b[1;32m    276\u001b[0m \u001b[38;5;250m    \u001b[39m\u001b[38;5;124;03m\"\"\"Deserialize ``fp`` (a ``.read()``-supporting file-like object containing\u001b[39;00m\n\u001b[1;32m    277\u001b[0m \u001b[38;5;124;03m    a JSON document) to a Python object.\u001b[39;00m\n\u001b[1;32m    278\u001b[0m \n\u001b[0;32m   (...)\u001b[0m\n\u001b[1;32m    291\u001b[0m \u001b[38;5;124;03m    kwarg; otherwise ``JSONDecoder`` is used.\u001b[39;00m\n\u001b[1;32m    292\u001b[0m \u001b[38;5;124;03m    \"\"\"\u001b[39;00m\n\u001b[0;32m--> 293\u001b[0m     \u001b[38;5;28;01mreturn\u001b[39;00m \u001b[43mloads\u001b[49m\u001b[43m(\u001b[49m\u001b[43mfp\u001b[49m\u001b[38;5;241;43m.\u001b[39;49m\u001b[43mread\u001b[49m\u001b[43m(\u001b[49m\u001b[43m)\u001b[49m\u001b[43m,\u001b[49m\n\u001b[1;32m    294\u001b[0m \u001b[43m        \u001b[49m\u001b[38;5;28;43mcls\u001b[39;49m\u001b[38;5;241;43m=\u001b[39;49m\u001b[38;5;28;43mcls\u001b[39;49m\u001b[43m,\u001b[49m\u001b[43m \u001b[49m\u001b[43mobject_hook\u001b[49m\u001b[38;5;241;43m=\u001b[39;49m\u001b[43mobject_hook\u001b[49m\u001b[43m,\u001b[49m\n\u001b[1;32m    295\u001b[0m \u001b[43m        \u001b[49m\u001b[43mparse_float\u001b[49m\u001b[38;5;241;43m=\u001b[39;49m\u001b[43mparse_float\u001b[49m\u001b[43m,\u001b[49m\u001b[43m \u001b[49m\u001b[43mparse_int\u001b[49m\u001b[38;5;241;43m=\u001b[39;49m\u001b[43mparse_int\u001b[49m\u001b[43m,\u001b[49m\n\u001b[1;32m    296\u001b[0m \u001b[43m        \u001b[49m\u001b[43mparse_constant\u001b[49m\u001b[38;5;241;43m=\u001b[39;49m\u001b[43mparse_constant\u001b[49m\u001b[43m,\u001b[49m\u001b[43m \u001b[49m\u001b[43mobject_pairs_hook\u001b[49m\u001b[38;5;241;43m=\u001b[39;49m\u001b[43mobject_pairs_hook\u001b[49m\u001b[43m,\u001b[49m\u001b[43m \u001b[49m\u001b[38;5;241;43m*\u001b[39;49m\u001b[38;5;241;43m*\u001b[39;49m\u001b[43mkw\u001b[49m\u001b[43m)\u001b[49m\n",
      "File \u001b[0;32m~/anaconda3/envs/gwfish/lib/python3.9/json/__init__.py:359\u001b[0m, in \u001b[0;36mloads\u001b[0;34m(s, cls, object_hook, parse_float, parse_int, parse_constant, object_pairs_hook, **kw)\u001b[0m\n\u001b[1;32m    357\u001b[0m \u001b[38;5;28;01mif\u001b[39;00m parse_constant \u001b[38;5;129;01mis\u001b[39;00m \u001b[38;5;129;01mnot\u001b[39;00m \u001b[38;5;28;01mNone\u001b[39;00m:\n\u001b[1;32m    358\u001b[0m     kw[\u001b[38;5;124m'\u001b[39m\u001b[38;5;124mparse_constant\u001b[39m\u001b[38;5;124m'\u001b[39m] \u001b[38;5;241m=\u001b[39m parse_constant\n\u001b[0;32m--> 359\u001b[0m \u001b[38;5;28;01mreturn\u001b[39;00m \u001b[38;5;28;43mcls\u001b[39;49m\u001b[43m(\u001b[49m\u001b[38;5;241;43m*\u001b[39;49m\u001b[38;5;241;43m*\u001b[39;49m\u001b[43mkw\u001b[49m\u001b[43m)\u001b[49m\u001b[38;5;241;43m.\u001b[39;49m\u001b[43mdecode\u001b[49m\u001b[43m(\u001b[49m\u001b[43ms\u001b[49m\u001b[43m)\u001b[49m\n",
      "File \u001b[0;32m~/anaconda3/envs/gwfish/lib/python3.9/json/decoder.py:337\u001b[0m, in \u001b[0;36mJSONDecoder.decode\u001b[0;34m(self, s, _w)\u001b[0m\n\u001b[1;32m    332\u001b[0m \u001b[38;5;28;01mdef\u001b[39;00m\u001b[38;5;250m \u001b[39m\u001b[38;5;21mdecode\u001b[39m(\u001b[38;5;28mself\u001b[39m, s, _w\u001b[38;5;241m=\u001b[39mWHITESPACE\u001b[38;5;241m.\u001b[39mmatch):\n\u001b[1;32m    333\u001b[0m \u001b[38;5;250m    \u001b[39m\u001b[38;5;124;03m\"\"\"Return the Python representation of ``s`` (a ``str`` instance\u001b[39;00m\n\u001b[1;32m    334\u001b[0m \u001b[38;5;124;03m    containing a JSON document).\u001b[39;00m\n\u001b[1;32m    335\u001b[0m \n\u001b[1;32m    336\u001b[0m \u001b[38;5;124;03m    \"\"\"\u001b[39;00m\n\u001b[0;32m--> 337\u001b[0m     obj, end \u001b[38;5;241m=\u001b[39m \u001b[38;5;28;43mself\u001b[39;49m\u001b[38;5;241;43m.\u001b[39;49m\u001b[43mraw_decode\u001b[49m\u001b[43m(\u001b[49m\u001b[43ms\u001b[49m\u001b[43m,\u001b[49m\u001b[43m \u001b[49m\u001b[43midx\u001b[49m\u001b[38;5;241;43m=\u001b[39;49m\u001b[43m_w\u001b[49m\u001b[43m(\u001b[49m\u001b[43ms\u001b[49m\u001b[43m,\u001b[49m\u001b[43m \u001b[49m\u001b[38;5;241;43m0\u001b[39;49m\u001b[43m)\u001b[49m\u001b[38;5;241;43m.\u001b[39;49m\u001b[43mend\u001b[49m\u001b[43m(\u001b[49m\u001b[43m)\u001b[49m\u001b[43m)\u001b[49m\n\u001b[1;32m    338\u001b[0m     end \u001b[38;5;241m=\u001b[39m _w(s, end)\u001b[38;5;241m.\u001b[39mend()\n\u001b[1;32m    339\u001b[0m     \u001b[38;5;28;01mif\u001b[39;00m end \u001b[38;5;241m!=\u001b[39m \u001b[38;5;28mlen\u001b[39m(s):\n",
      "File \u001b[0;32m~/anaconda3/envs/gwfish/lib/python3.9/json/decoder.py:353\u001b[0m, in \u001b[0;36mJSONDecoder.raw_decode\u001b[0;34m(self, s, idx)\u001b[0m\n\u001b[1;32m    344\u001b[0m \u001b[38;5;250m\u001b[39m\u001b[38;5;124;03m\"\"\"Decode a JSON document from ``s`` (a ``str`` beginning with\u001b[39;00m\n\u001b[1;32m    345\u001b[0m \u001b[38;5;124;03ma JSON document) and return a 2-tuple of the Python\u001b[39;00m\n\u001b[1;32m    346\u001b[0m \u001b[38;5;124;03mrepresentation and the index in ``s`` where the document ended.\u001b[39;00m\n\u001b[0;32m   (...)\u001b[0m\n\u001b[1;32m    350\u001b[0m \n\u001b[1;32m    351\u001b[0m \u001b[38;5;124;03m\"\"\"\u001b[39;00m\n\u001b[1;32m    352\u001b[0m \u001b[38;5;28;01mtry\u001b[39;00m:\n\u001b[0;32m--> 353\u001b[0m     obj, end \u001b[38;5;241m=\u001b[39m \u001b[38;5;28;43mself\u001b[39;49m\u001b[38;5;241;43m.\u001b[39;49m\u001b[43mscan_once\u001b[49m\u001b[43m(\u001b[49m\u001b[43ms\u001b[49m\u001b[43m,\u001b[49m\u001b[43m \u001b[49m\u001b[43midx\u001b[49m\u001b[43m)\u001b[49m\n\u001b[1;32m    354\u001b[0m \u001b[38;5;28;01mexcept\u001b[39;00m \u001b[38;5;167;01mStopIteration\u001b[39;00m \u001b[38;5;28;01mas\u001b[39;00m err:\n\u001b[1;32m    355\u001b[0m     \u001b[38;5;28;01mraise\u001b[39;00m JSONDecodeError(\u001b[38;5;124m\"\u001b[39m\u001b[38;5;124mExpecting value\u001b[39m\u001b[38;5;124m\"\u001b[39m, s, err\u001b[38;5;241m.\u001b[39mvalue) \u001b[38;5;28;01mfrom\u001b[39;00m\u001b[38;5;250m \u001b[39m\u001b[38;5;28;01mNone\u001b[39;00m\n",
      "File \u001b[0;32m~/anaconda3/envs/gwfish/lib/python3.9/site-packages/bilby/core/utils/io.py:173\u001b[0m, in \u001b[0;36mdecode_bilby_json\u001b[0;34m(dct)\u001b[0m\n\u001b[1;32m    171\u001b[0m     \u001b[38;5;28;01mreturn\u001b[39;00m decode_astropy_cosmology(dct)\n\u001b[1;32m    172\u001b[0m \u001b[38;5;28;01mif\u001b[39;00m dct\u001b[38;5;241m.\u001b[39mget(\u001b[38;5;124m\"\u001b[39m\u001b[38;5;124m__astropy_quantity__\u001b[39m\u001b[38;5;124m\"\u001b[39m, \u001b[38;5;28;01mFalse\u001b[39;00m):\n\u001b[0;32m--> 173\u001b[0m     \u001b[38;5;28;01mreturn\u001b[39;00m \u001b[43mdecode_astropy_quantity\u001b[49m\u001b[43m(\u001b[49m\u001b[43mdct\u001b[49m\u001b[43m)\u001b[49m\n\u001b[1;32m    174\u001b[0m \u001b[38;5;28;01mif\u001b[39;00m dct\u001b[38;5;241m.\u001b[39mget(\u001b[38;5;124m\"\u001b[39m\u001b[38;5;124m__array__\u001b[39m\u001b[38;5;124m\"\u001b[39m, \u001b[38;5;28;01mFalse\u001b[39;00m):\n\u001b[1;32m    175\u001b[0m     \u001b[38;5;28;01mreturn\u001b[39;00m np\u001b[38;5;241m.\u001b[39masarray(dct[\u001b[38;5;124m\"\u001b[39m\u001b[38;5;124mcontent\u001b[39m\u001b[38;5;124m\"\u001b[39m])\n",
      "File \u001b[0;32m~/anaconda3/envs/gwfish/lib/python3.9/site-packages/bilby/core/utils/io.py:121\u001b[0m, in \u001b[0;36mdecode_astropy_quantity\u001b[0;34m(dct)\u001b[0m\n\u001b[1;32m    119\u001b[0m \u001b[38;5;28;01mdef\u001b[39;00m\u001b[38;5;250m \u001b[39m\u001b[38;5;21mdecode_astropy_quantity\u001b[39m(dct):\n\u001b[1;32m    120\u001b[0m     \u001b[38;5;28;01mtry\u001b[39;00m:\n\u001b[0;32m--> 121\u001b[0m         \u001b[38;5;28;01mfrom\u001b[39;00m\u001b[38;5;250m \u001b[39m\u001b[38;5;21;01mastropy\u001b[39;00m\u001b[38;5;250m \u001b[39m\u001b[38;5;28;01mimport\u001b[39;00m units\n\u001b[1;32m    123\u001b[0m         \u001b[38;5;28;01mif\u001b[39;00m dct[\u001b[38;5;124m\"\u001b[39m\u001b[38;5;124mvalue\u001b[39m\u001b[38;5;124m\"\u001b[39m] \u001b[38;5;129;01mis\u001b[39;00m \u001b[38;5;28;01mNone\u001b[39;00m:\n\u001b[1;32m    124\u001b[0m             \u001b[38;5;28;01mreturn\u001b[39;00m \u001b[38;5;28;01mNone\u001b[39;00m\n",
      "File \u001b[0;32m~/anaconda3/envs/gwfish/lib/python3.9/site-packages/astropy/units/__init__.py:23\u001b[0m\n\u001b[1;32m     21\u001b[0m \u001b[38;5;66;03m# isort: off\u001b[39;00m\n\u001b[1;32m     22\u001b[0m \u001b[38;5;28;01mfrom\u001b[39;00m\u001b[38;5;250m \u001b[39m\u001b[38;5;21;01m.\u001b[39;00m\u001b[38;5;21;01mcore\u001b[39;00m\u001b[38;5;250m \u001b[39m\u001b[38;5;28;01mimport\u001b[39;00m \u001b[38;5;241m*\u001b[39m\n\u001b[0;32m---> 23\u001b[0m \u001b[38;5;28;01mfrom\u001b[39;00m\u001b[38;5;250m \u001b[39m\u001b[38;5;21;01m.\u001b[39;00m\u001b[38;5;21;01mquantity\u001b[39;00m\u001b[38;5;250m \u001b[39m\u001b[38;5;28;01mimport\u001b[39;00m \u001b[38;5;241m*\u001b[39m\n\u001b[1;32m     25\u001b[0m \u001b[38;5;28;01mfrom\u001b[39;00m\u001b[38;5;250m \u001b[39m\u001b[38;5;21;01m.\u001b[39;00m\u001b[38;5;250m \u001b[39m\u001b[38;5;28;01mimport\u001b[39;00m astrophys, cgs, misc, photometric, si\n\u001b[1;32m     26\u001b[0m \u001b[38;5;28;01mfrom\u001b[39;00m\u001b[38;5;250m \u001b[39m\u001b[38;5;21;01m.\u001b[39;00m\u001b[38;5;21;01mfunction\u001b[39;00m\u001b[38;5;250m \u001b[39m\u001b[38;5;28;01mimport\u001b[39;00m units \u001b[38;5;28;01mas\u001b[39;00m function_units\n",
      "File \u001b[0;32m~/anaconda3/envs/gwfish/lib/python3.9/site-packages/astropy/units/quantity.py:36\u001b[0m\n\u001b[1;32m     26\u001b[0m \u001b[38;5;28;01mfrom\u001b[39;00m\u001b[38;5;250m \u001b[39m\u001b[38;5;21;01m.\u001b[39;00m\u001b[38;5;21;01mcore\u001b[39;00m\u001b[38;5;250m \u001b[39m\u001b[38;5;28;01mimport\u001b[39;00m (\n\u001b[1;32m     27\u001b[0m     Unit,\n\u001b[1;32m     28\u001b[0m     UnitBase,\n\u001b[0;32m   (...)\u001b[0m\n\u001b[1;32m     33\u001b[0m     get_current_unit_registry,\n\u001b[1;32m     34\u001b[0m )\n\u001b[1;32m     35\u001b[0m \u001b[38;5;28;01mfrom\u001b[39;00m\u001b[38;5;250m \u001b[39m\u001b[38;5;21;01m.\u001b[39;00m\u001b[38;5;21;01mformat\u001b[39;00m\u001b[38;5;250m \u001b[39m\u001b[38;5;28;01mimport\u001b[39;00m Base, Latex\n\u001b[0;32m---> 36\u001b[0m \u001b[38;5;28;01mfrom\u001b[39;00m\u001b[38;5;250m \u001b[39m\u001b[38;5;21;01m.\u001b[39;00m\u001b[38;5;21;01mquantity_helper\u001b[39;00m\u001b[38;5;250m \u001b[39m\u001b[38;5;28;01mimport\u001b[39;00m can_have_arbitrary_unit, check_output, converters_and_unit\n\u001b[1;32m     37\u001b[0m \u001b[38;5;28;01mfrom\u001b[39;00m\u001b[38;5;250m \u001b[39m\u001b[38;5;21;01m.\u001b[39;00m\u001b[38;5;21;01mquantity_helper\u001b[39;00m\u001b[38;5;21;01m.\u001b[39;00m\u001b[38;5;21;01mfunction_helpers\u001b[39;00m\u001b[38;5;250m \u001b[39m\u001b[38;5;28;01mimport\u001b[39;00m (\n\u001b[1;32m     38\u001b[0m     DISPATCHED_FUNCTIONS,\n\u001b[1;32m     39\u001b[0m     FUNCTION_HELPERS,\n\u001b[1;32m     40\u001b[0m     SUBCLASS_SAFE_FUNCTIONS,\n\u001b[1;32m     41\u001b[0m     UNSUPPORTED_FUNCTIONS,\n\u001b[1;32m     42\u001b[0m )\n\u001b[1;32m     43\u001b[0m \u001b[38;5;28;01mfrom\u001b[39;00m\u001b[38;5;250m \u001b[39m\u001b[38;5;21;01m.\u001b[39;00m\u001b[38;5;21;01mstructured\u001b[39;00m\u001b[38;5;250m \u001b[39m\u001b[38;5;28;01mimport\u001b[39;00m StructuredUnit, _structured_unit_like_dtype\n",
      "File \u001b[0;32m~/anaconda3/envs/gwfish/lib/python3.9/site-packages/astropy/units/quantity_helper/__init__.py:16\u001b[0m\n\u001b[1;32m      8\u001b[0m \u001b[38;5;28;01mfrom\u001b[39;00m\u001b[38;5;250m \u001b[39m\u001b[38;5;21;01m.\u001b[39;00m\u001b[38;5;21;01mconverters\u001b[39;00m\u001b[38;5;250m \u001b[39m\u001b[38;5;28;01mimport\u001b[39;00m \u001b[38;5;241m*\u001b[39m\n\u001b[1;32m     10\u001b[0m \u001b[38;5;66;03m# isort: split\u001b[39;00m\n\u001b[1;32m     11\u001b[0m \u001b[38;5;66;03m# By importing helpers, all the unit conversion functions needed for\u001b[39;00m\n\u001b[1;32m     12\u001b[0m \u001b[38;5;66;03m# numpy ufuncs and functions are defined.\u001b[39;00m\n\u001b[1;32m     13\u001b[0m \u001b[38;5;66;03m# For scipy.special and erfa, importing the helper modules ensures\u001b[39;00m\n\u001b[1;32m     14\u001b[0m \u001b[38;5;66;03m# the definitions are added as modules to UFUNC_HELPERS, to be loaded\u001b[39;00m\n\u001b[1;32m     15\u001b[0m \u001b[38;5;66;03m# on demand.\u001b[39;00m\n\u001b[0;32m---> 16\u001b[0m \u001b[38;5;28;01mfrom\u001b[39;00m\u001b[38;5;250m \u001b[39m\u001b[38;5;21;01m.\u001b[39;00m\u001b[38;5;250m \u001b[39m\u001b[38;5;28;01mimport\u001b[39;00m erfa, function_helpers, helpers, scipy_special\n",
      "File \u001b[0;32m~/anaconda3/envs/gwfish/lib/python3.9/site-packages/astropy/units/quantity_helper/erfa.py:12\u001b[0m\n\u001b[1;32m      9\u001b[0m \u001b[38;5;28;01mfrom\u001b[39;00m\u001b[38;5;250m \u001b[39m\u001b[38;5;21;01mastropy\u001b[39;00m\u001b[38;5;21;01m.\u001b[39;00m\u001b[38;5;21;01munits\u001b[39;00m\u001b[38;5;21;01m.\u001b[39;00m\u001b[38;5;21;01mstructured\u001b[39;00m\u001b[38;5;250m \u001b[39m\u001b[38;5;28;01mimport\u001b[39;00m StructuredUnit\n\u001b[1;32m     11\u001b[0m \u001b[38;5;28;01mfrom\u001b[39;00m\u001b[38;5;250m \u001b[39m\u001b[38;5;21;01m.\u001b[39;00m\u001b[38;5;250m \u001b[39m\u001b[38;5;28;01mimport\u001b[39;00m UFUNC_HELPERS\n\u001b[0;32m---> 12\u001b[0m \u001b[38;5;28;01mfrom\u001b[39;00m\u001b[38;5;250m \u001b[39m\u001b[38;5;21;01m.\u001b[39;00m\u001b[38;5;21;01mhelpers\u001b[39;00m\u001b[38;5;250m \u001b[39m\u001b[38;5;28;01mimport\u001b[39;00m (\n\u001b[1;32m     13\u001b[0m     _d,\n\u001b[1;32m     14\u001b[0m     get_converter,\n\u001b[1;32m     15\u001b[0m     helper_invariant,\n\u001b[1;32m     16\u001b[0m     helper_multiplication,\n\u001b[1;32m     17\u001b[0m     helper_twoarg_invariant,\n\u001b[1;32m     18\u001b[0m )\n\u001b[1;32m     20\u001b[0m erfa_ufuncs \u001b[38;5;241m=\u001b[39m (\n\u001b[1;32m     21\u001b[0m     \u001b[38;5;124m\"\u001b[39m\u001b[38;5;124ms2c\u001b[39m\u001b[38;5;124m\"\u001b[39m, \u001b[38;5;124m\"\u001b[39m\u001b[38;5;124ms2p\u001b[39m\u001b[38;5;124m\"\u001b[39m, \u001b[38;5;124m\"\u001b[39m\u001b[38;5;124mc2s\u001b[39m\u001b[38;5;124m\"\u001b[39m, \u001b[38;5;124m\"\u001b[39m\u001b[38;5;124mp2s\u001b[39m\u001b[38;5;124m\"\u001b[39m, \u001b[38;5;124m\"\u001b[39m\u001b[38;5;124mpm\u001b[39m\u001b[38;5;124m\"\u001b[39m, \u001b[38;5;124m\"\u001b[39m\u001b[38;5;124mpdp\u001b[39m\u001b[38;5;124m\"\u001b[39m, \u001b[38;5;124m\"\u001b[39m\u001b[38;5;124mpxp\u001b[39m\u001b[38;5;124m\"\u001b[39m, \u001b[38;5;124m\"\u001b[39m\u001b[38;5;124mrxp\u001b[39m\u001b[38;5;124m\"\u001b[39m, \u001b[38;5;124m\"\u001b[39m\u001b[38;5;124mcpv\u001b[39m\u001b[38;5;124m\"\u001b[39m, \u001b[38;5;124m\"\u001b[39m\u001b[38;5;124mp2pv\u001b[39m\u001b[38;5;124m\"\u001b[39m, \u001b[38;5;124m\"\u001b[39m\u001b[38;5;124mpv2p\u001b[39m\u001b[38;5;124m\"\u001b[39m,\n\u001b[1;32m     22\u001b[0m     \u001b[38;5;124m\"\u001b[39m\u001b[38;5;124mpv2s\u001b[39m\u001b[38;5;124m\"\u001b[39m, \u001b[38;5;124m\"\u001b[39m\u001b[38;5;124mpvdpv\u001b[39m\u001b[38;5;124m\"\u001b[39m, \u001b[38;5;124m\"\u001b[39m\u001b[38;5;124mpvm\u001b[39m\u001b[38;5;124m\"\u001b[39m, \u001b[38;5;124m\"\u001b[39m\u001b[38;5;124mpvmpv\u001b[39m\u001b[38;5;124m\"\u001b[39m, \u001b[38;5;124m\"\u001b[39m\u001b[38;5;124mpvppv\u001b[39m\u001b[38;5;124m\"\u001b[39m, \u001b[38;5;124m\"\u001b[39m\u001b[38;5;124mpvstar\u001b[39m\u001b[38;5;124m\"\u001b[39m, \u001b[38;5;124m\"\u001b[39m\u001b[38;5;124mpvtob\u001b[39m\u001b[38;5;124m\"\u001b[39m, \u001b[38;5;124m\"\u001b[39m\u001b[38;5;124mpvu\u001b[39m\u001b[38;5;124m\"\u001b[39m, \u001b[38;5;124m\"\u001b[39m\u001b[38;5;124mpvup\u001b[39m\u001b[38;5;124m\"\u001b[39m,\n\u001b[0;32m   (...)\u001b[0m\n\u001b[1;32m     25\u001b[0m     \u001b[38;5;124m\"\u001b[39m\u001b[38;5;124matioq\u001b[39m\u001b[38;5;124m\"\u001b[39m, \u001b[38;5;124m\"\u001b[39m\u001b[38;5;124matoiq\u001b[39m\u001b[38;5;124m\"\u001b[39m,\n\u001b[1;32m     26\u001b[0m )  \u001b[38;5;66;03m# fmt: skip\u001b[39;00m\n\u001b[1;32m     29\u001b[0m \u001b[38;5;28;01mdef\u001b[39;00m\u001b[38;5;250m \u001b[39m\u001b[38;5;21mhas_matching_structure\u001b[39m(unit, dtype):\n",
      "File \u001b[0;32m~/anaconda3/envs/gwfish/lib/python3.9/site-packages/astropy/units/quantity_helper/helpers.py:393\u001b[0m\n\u001b[1;32m    347\u001b[0m UNSUPPORTED_UFUNCS \u001b[38;5;241m|\u001b[39m\u001b[38;5;241m=\u001b[39m {\n\u001b[1;32m    348\u001b[0m     np\u001b[38;5;241m.\u001b[39mbitwise_and,\n\u001b[1;32m    349\u001b[0m     np\u001b[38;5;241m.\u001b[39mbitwise_or,\n\u001b[0;32m   (...)\u001b[0m\n\u001b[1;32m    360\u001b[0m     np\u001b[38;5;241m.\u001b[39mlcm,\n\u001b[1;32m    361\u001b[0m }\n\u001b[1;32m    363\u001b[0m \u001b[38;5;28;01mif\u001b[39;00m \u001b[38;5;129;01mnot\u001b[39;00m NUMPY_LT_2_0:\n\u001b[1;32m    364\u001b[0m     \u001b[38;5;66;03m# string utilities - make no sense for Quantity.\u001b[39;00m\n\u001b[1;32m    365\u001b[0m     UNSUPPORTED_UFUNCS \u001b[38;5;241m|\u001b[39m\u001b[38;5;241m=\u001b[39m {\n\u001b[1;32m    366\u001b[0m         np\u001b[38;5;241m.\u001b[39mbitwise_count,\n\u001b[1;32m    367\u001b[0m         np\u001b[38;5;241m.\u001b[39m_core\u001b[38;5;241m.\u001b[39mumath\u001b[38;5;241m.\u001b[39mcount,\n\u001b[1;32m    368\u001b[0m         np\u001b[38;5;241m.\u001b[39m_core\u001b[38;5;241m.\u001b[39mumath\u001b[38;5;241m.\u001b[39misalpha,\n\u001b[1;32m    369\u001b[0m         np\u001b[38;5;241m.\u001b[39m_core\u001b[38;5;241m.\u001b[39mumath\u001b[38;5;241m.\u001b[39misdigit,\n\u001b[1;32m    370\u001b[0m         np\u001b[38;5;241m.\u001b[39m_core\u001b[38;5;241m.\u001b[39mumath\u001b[38;5;241m.\u001b[39misspace,\n\u001b[1;32m    371\u001b[0m         np\u001b[38;5;241m.\u001b[39m_core\u001b[38;5;241m.\u001b[39mumath\u001b[38;5;241m.\u001b[39misnumeric,\n\u001b[1;32m    372\u001b[0m         np\u001b[38;5;241m.\u001b[39m_core\u001b[38;5;241m.\u001b[39mumath\u001b[38;5;241m.\u001b[39misdecimal,\n\u001b[1;32m    373\u001b[0m         np\u001b[38;5;241m.\u001b[39m_core\u001b[38;5;241m.\u001b[39mumath\u001b[38;5;241m.\u001b[39misalnum,\n\u001b[1;32m    374\u001b[0m         np\u001b[38;5;241m.\u001b[39m_core\u001b[38;5;241m.\u001b[39mumath\u001b[38;5;241m.\u001b[39mistitle,\n\u001b[1;32m    375\u001b[0m         np\u001b[38;5;241m.\u001b[39m_core\u001b[38;5;241m.\u001b[39mumath\u001b[38;5;241m.\u001b[39mislower,\n\u001b[1;32m    376\u001b[0m         np\u001b[38;5;241m.\u001b[39m_core\u001b[38;5;241m.\u001b[39mumath\u001b[38;5;241m.\u001b[39misupper,\n\u001b[1;32m    377\u001b[0m         np\u001b[38;5;241m.\u001b[39m_core\u001b[38;5;241m.\u001b[39mumath\u001b[38;5;241m.\u001b[39mindex,\n\u001b[1;32m    378\u001b[0m         np\u001b[38;5;241m.\u001b[39m_core\u001b[38;5;241m.\u001b[39mumath\u001b[38;5;241m.\u001b[39mrindex,\n\u001b[1;32m    379\u001b[0m         np\u001b[38;5;241m.\u001b[39m_core\u001b[38;5;241m.\u001b[39mumath\u001b[38;5;241m.\u001b[39mstartswith,\n\u001b[1;32m    380\u001b[0m         np\u001b[38;5;241m.\u001b[39m_core\u001b[38;5;241m.\u001b[39mumath\u001b[38;5;241m.\u001b[39mendswith,\n\u001b[1;32m    381\u001b[0m         np\u001b[38;5;241m.\u001b[39m_core\u001b[38;5;241m.\u001b[39mumath\u001b[38;5;241m.\u001b[39mfind,\n\u001b[1;32m    382\u001b[0m         np\u001b[38;5;241m.\u001b[39m_core\u001b[38;5;241m.\u001b[39mumath\u001b[38;5;241m.\u001b[39mrfind,\n\u001b[1;32m    383\u001b[0m         np\u001b[38;5;241m.\u001b[39m_core\u001b[38;5;241m.\u001b[39mumath\u001b[38;5;241m.\u001b[39mstr_len,\n\u001b[1;32m    384\u001b[0m         np\u001b[38;5;241m.\u001b[39m_core\u001b[38;5;241m.\u001b[39mumath\u001b[38;5;241m.\u001b[39m_strip_chars,\n\u001b[1;32m    385\u001b[0m         np\u001b[38;5;241m.\u001b[39m_core\u001b[38;5;241m.\u001b[39mumath\u001b[38;5;241m.\u001b[39m_lstrip_chars,\n\u001b[1;32m    386\u001b[0m         np\u001b[38;5;241m.\u001b[39m_core\u001b[38;5;241m.\u001b[39mumath\u001b[38;5;241m.\u001b[39m_rstrip_chars,\n\u001b[1;32m    387\u001b[0m         np\u001b[38;5;241m.\u001b[39m_core\u001b[38;5;241m.\u001b[39mumath\u001b[38;5;241m.\u001b[39m_strip_whitespace,\n\u001b[1;32m    388\u001b[0m         np\u001b[38;5;241m.\u001b[39m_core\u001b[38;5;241m.\u001b[39mumath\u001b[38;5;241m.\u001b[39m_lstrip_whitespace,\n\u001b[1;32m    389\u001b[0m         np\u001b[38;5;241m.\u001b[39m_core\u001b[38;5;241m.\u001b[39mumath\u001b[38;5;241m.\u001b[39m_rstrip_whitespace,\n\u001b[1;32m    390\u001b[0m         np\u001b[38;5;241m.\u001b[39m_core\u001b[38;5;241m.\u001b[39mumath\u001b[38;5;241m.\u001b[39m_replace,\n\u001b[1;32m    391\u001b[0m         np\u001b[38;5;241m.\u001b[39m_core\u001b[38;5;241m.\u001b[39mumath\u001b[38;5;241m.\u001b[39m_expandtabs,\n\u001b[1;32m    392\u001b[0m         np\u001b[38;5;241m.\u001b[39m_core\u001b[38;5;241m.\u001b[39mumath\u001b[38;5;241m.\u001b[39m_expandtabs_length,\n\u001b[0;32m--> 393\u001b[0m         \u001b[43mnp\u001b[49m\u001b[38;5;241;43m.\u001b[39;49m\u001b[43m_core\u001b[49m\u001b[38;5;241;43m.\u001b[39;49m\u001b[43mumath\u001b[49m\u001b[38;5;241;43m.\u001b[39;49m\u001b[43m_ljust\u001b[49m,\n\u001b[1;32m    394\u001b[0m         np\u001b[38;5;241m.\u001b[39m_core\u001b[38;5;241m.\u001b[39mumath\u001b[38;5;241m.\u001b[39m_rjust,\n\u001b[1;32m    395\u001b[0m         np\u001b[38;5;241m.\u001b[39m_core\u001b[38;5;241m.\u001b[39mumath\u001b[38;5;241m.\u001b[39m_center,\n\u001b[1;32m    396\u001b[0m         np\u001b[38;5;241m.\u001b[39m_core\u001b[38;5;241m.\u001b[39mumath\u001b[38;5;241m.\u001b[39m_zfill,\n\u001b[1;32m    397\u001b[0m     }\n\u001b[1;32m    399\u001b[0m \u001b[38;5;66;03m# SINGLE ARGUMENT UFUNCS\u001b[39;00m\n\u001b[1;32m    400\u001b[0m \n\u001b[1;32m    401\u001b[0m \u001b[38;5;66;03m# ufuncs that do not care about the unit and do not return a Quantity\u001b[39;00m\n\u001b[1;32m    402\u001b[0m \u001b[38;5;66;03m# (but rather a boolean, or -1, 0, or +1 for np.sign).\u001b[39;00m\n\u001b[1;32m    403\u001b[0m onearg_test_ufuncs \u001b[38;5;241m=\u001b[39m (np\u001b[38;5;241m.\u001b[39misfinite, np\u001b[38;5;241m.\u001b[39misinf, np\u001b[38;5;241m.\u001b[39misnan, np\u001b[38;5;241m.\u001b[39msign, np\u001b[38;5;241m.\u001b[39msignbit)\n",
      "\u001b[0;31mAttributeError\u001b[0m: module 'numpy._core.umath' has no attribute '_ljust'"
     ]
    }
   ],
   "source": [
    "#injections = pd.read_hdf(PATH_TO_DATA + 'CBC_pop_' + input_file + '.hdf5')\n",
    "covm = np.loadtxt(PATH_TO_DATA + 'Inverse_Fisher_' + input_file + '.txt')\n",
    "bilby_output = bilby.core.result.read_in_result(PATH_TO_DATA + input_file +'_result.json')\n",
    "posteriors = bilby_output.posterior[corner_params]"
   ]
  },
  {
   "cell_type": "code",
   "execution_count": null,
   "metadata": {},
   "outputs": [],
   "source": [
    "plot_name = fig_label\n",
    "# Calculate the range dynamically with padding\n",
    "padding = 0.1  # Extend range by 10%\n",
    "data = posteriors\n",
    "data_min = np.min(data, axis=0)\n",
    "data_max = np.max(data, axis=0)\n",
    "data_range = [(low - padding * (high - low), high + padding * (high - low)) for low, high in zip(data_min, data_max)]\n",
    "\n",
    "figure = corner.corner(\n",
    "    posteriors, \n",
    "    color=my_color_darker, \n",
    "    truths=injections[corner_params].iloc[0].to_numpy(),\n",
    "    range=data_range,  # Use calculated range with padding \n",
    "    labels=corner_lbs, \n",
    "    rect=[0, 0, 1, 1],\n",
    "    **default_kwargs\n",
    ")\n",
    "figure.subplots_adjust(wspace=0.05, hspace=0.05)\n",
    "plt.subplots_adjust(left=0.05, bottom=0.05, right=0.95, top=0.95)\n",
    "# Save the plot to a file\n",
    "plt.savefig(f'plots/{plot_name}.pdf', bbox_inches='tight')  \n",
    "# Display the plot\n",
    "plt.show()\n",
    "plt.close()"
   ]
  }
 ],
 "metadata": {
  "kernelspec": {
   "display_name": "gwfish",
   "language": "python",
   "name": "python3"
  },
  "language_info": {
   "codemirror_mode": {
    "name": "ipython",
    "version": 3
   },
   "file_extension": ".py",
   "mimetype": "text/x-python",
   "name": "python",
   "nbconvert_exporter": "python",
   "pygments_lexer": "ipython3",
   "version": "3.9.21"
  }
 },
 "nbformat": 4,
 "nbformat_minor": 2
}
